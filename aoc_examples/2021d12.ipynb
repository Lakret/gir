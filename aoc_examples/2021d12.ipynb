{
 "cells": [
  {
   "attachments": {},
   "cell_type": "markdown",
   "metadata": {},
   "source": [
    "## Advent of Code 2021, Day 12\n",
    "\n",
    "This might be a good example for depth-first search according to the classifier."
   ]
  },
  {
   "attachments": {},
   "cell_type": "markdown",
   "metadata": {},
   "source": [
    "#### Input Processing"
   ]
  },
  {
   "cell_type": "code",
   "execution_count": 113,
   "metadata": {},
   "outputs": [],
   "source": [
    "from collections import defaultdict\n",
    "from copy import deepcopy\n",
    "from dataclasses import dataclass, field\n",
    "from typing import Tuple, Optional"
   ]
  },
  {
   "cell_type": "code",
   "execution_count": 30,
   "metadata": {},
   "outputs": [],
   "source": [
    "example1 = \"\"\"start-A\n",
    "start-b\n",
    "A-c\n",
    "A-b\n",
    "b-d\n",
    "A-end\n",
    "b-end\n",
    "\"\"\".splitlines()"
   ]
  },
  {
   "cell_type": "code",
   "execution_count": 31,
   "metadata": {},
   "outputs": [],
   "source": [
    "example2 = \"\"\"dc-end\n",
    "HN-start\n",
    "start-kj\n",
    "dc-start\n",
    "dc-HN\n",
    "LN-dc\n",
    "HN-end\n",
    "kj-sa\n",
    "kj-HN\n",
    "kj-dc\n",
    "\"\"\".splitlines()"
   ]
  },
  {
   "cell_type": "code",
   "execution_count": 32,
   "metadata": {},
   "outputs": [],
   "source": [
    "example3 = \"\"\"fs-end\n",
    "he-DX\n",
    "fs-he\n",
    "start-DX\n",
    "pj-DX\n",
    "end-zg\n",
    "zg-sl\n",
    "zg-pj\n",
    "pj-he\n",
    "RW-he\n",
    "fs-DX\n",
    "pj-RW\n",
    "zg-RW\n",
    "start-pj\n",
    "he-WI\n",
    "zg-he\n",
    "pj-fs\n",
    "start-RW\n",
    "\"\"\".splitlines()"
   ]
  },
  {
   "cell_type": "code",
   "execution_count": 33,
   "metadata": {},
   "outputs": [],
   "source": [
    "with open(\"inputs/2021d12\") as f:\n",
    "  input = [line.strip() for line in  f.readlines()]"
   ]
  },
  {
   "cell_type": "code",
   "execution_count": 34,
   "metadata": {},
   "outputs": [],
   "source": [
    "Graph = dict[str, list[str]]\n",
    "\n",
    "def parse(input: str) -> Graph:\n",
    "    \"\"\"\n",
    "    Returns a graph represented as a hashmap.\n",
    "    \n",
    "    Since the graph in question is (mostly) undirected, we automatically add backedges\n",
    "    (i.e., if `A` is connected to `B`, we add both `A -> [B, ...]` and `B -> [A, ...]`) entries.\n",
    "    The only exceptions are `start` and `end`, since those are source and sink nodes.\n",
    "    \"\"\"\n",
    "    graph = defaultdict(list)\n",
    "\n",
    "    for edge in input:\n",
    "        (v1, v2) = edge.split(\"-\")\n",
    "\n",
    "        if v1 == \"start\" or v2 == \"end\":\n",
    "            graph[v1].append(v2)\n",
    "        elif v1 == \"end\" or v2 == \"start\":\n",
    "            graph[v2].append(v1)\n",
    "        else:\n",
    "          graph[v1].append(v2)\n",
    "          graph[v2].append(v1)\n",
    "\n",
    "    return graph"
   ]
  },
  {
   "cell_type": "code",
   "execution_count": 35,
   "metadata": {},
   "outputs": [],
   "source": [
    "example1 = parse(example1)\n",
    "example2 = parse(example2)\n",
    "example3 = parse(example3)\n",
    "graph = parse(input)"
   ]
  },
  {
   "cell_type": "code",
   "execution_count": 39,
   "metadata": {},
   "outputs": [
    {
     "data": {
      "text/plain": [
       "defaultdict(list,\n",
       "            {'LA': ['sn', 'mo', 'zs', 'end'],\n",
       "             'sn': ['LA', 'mo', 'mh', 'vx', 'RD', 'JQ'],\n",
       "             'mo': ['LA', 'sn', 'mh', 'JQ', 'zs', 'RD'],\n",
       "             'zs': ['LA', 'end', 'JI', 'mo', 'rk', 'JQ'],\n",
       "             'RD': ['end', 'mo', 'sn'],\n",
       "             'start': ['vx', 'mh', 'JQ'],\n",
       "             'mh': ['mo', 'sn', 'JQ', 'vx'],\n",
       "             'JI': ['zs'],\n",
       "             'JQ': ['mo', 'mh', 'zs', 'vx', 'sn'],\n",
       "             'rk': ['zs'],\n",
       "             'vx': ['sn', 'mh', 'JQ']})"
      ]
     },
     "execution_count": 39,
     "metadata": {},
     "output_type": "execute_result"
    }
   ],
   "source": [
    "graph"
   ]
  },
  {
   "attachments": {},
   "cell_type": "markdown",
   "metadata": {},
   "source": [
    "### Part 1: Depth-First Search\n",
    "\n",
    "We can then use a standard depth-first search algorithm with an added condition:\n",
    "\n",
    "- lowercase nodes can only be visited once (uppercase can be visited any number of times).\n",
    "\n",
    "We will extract logic for this condition and maintaining paths into a separate dataclass `State`\n",
    "to keep our DFS implementation clean."
   ]
  },
  {
   "cell_type": "code",
   "execution_count": 122,
   "metadata": {},
   "outputs": [],
   "source": [
    "@dataclass\n",
    "class State:\n",
    "    path: list[str] = field(default_factory=list)\n",
    "    visited: set[str] = field(default_factory=set)\n",
    "    # only relevant for p2, see below\n",
    "    small_cave_exception: Optional[str] = None\n",
    "    exception_visited_once: bool = False\n",
    "\n",
    "\n",
    "    def conditionally_visit(self, node: str):\n",
    "        # only relevant for p2\n",
    "        if node == self.small_cave_exception:\n",
    "            if self.exception_visited_once:\n",
    "                self.visited.add(node)\n",
    "            else:\n",
    "                self.exception_visited_once = True\n",
    "        # relevant for both p1 and p2\n",
    "        elif node.islower():\n",
    "            self.visited.add(node)\n",
    "    \n",
    "    def is_visited(self, node: str) -> bool:\n",
    "        return node in self.visited\n",
    "    \n",
    "    def advance(self, node: str):\n",
    "        self.path.append(node)\n",
    "\n",
    "    def get_path(self) -> tuple[str, ...]:\n",
    "        return tuple(self.path)"
   ]
  },
  {
   "cell_type": "code",
   "execution_count": 124,
   "metadata": {},
   "outputs": [],
   "source": [
    "def dfs(graph: Graph, small_cave_exception: Optional[str]=None) -> set[Tuple[str, ...]]:\n",
    "    paths = set()\n",
    "\n",
    "    stack = [(\"start\", State(small_cave_exception=small_cave_exception))]\n",
    "    while stack:\n",
    "        curr, state = stack.pop()\n",
    "\n",
    "        if curr == \"end\":\n",
    "            state.advance(curr)\n",
    "            paths.add(state.get_path())\n",
    "            continue\n",
    "\n",
    "        if not state.is_visited(curr):\n",
    "            state.conditionally_visit(curr)\n",
    "\n",
    "            for next in graph[curr]:\n",
    "                next_state = deepcopy(state)\n",
    "                next_state.advance(curr)\n",
    "\n",
    "                stack.append((next, next_state))\n",
    "    \n",
    "    return paths"
   ]
  },
  {
   "cell_type": "code",
   "execution_count": 125,
   "metadata": {},
   "outputs": [],
   "source": [
    "def p1(graph: Graph) -> int:\n",
    "    return len(dfs(graph))"
   ]
  },
  {
   "cell_type": "code",
   "execution_count": 126,
   "metadata": {},
   "outputs": [],
   "source": [
    "assert p1(example1) == 10\n",
    "assert p1(example2) == 19\n",
    "assert p1(example3) == 226"
   ]
  },
  {
   "cell_type": "code",
   "execution_count": 127,
   "metadata": {},
   "outputs": [],
   "source": [
    "assert p1(graph) == 4970"
   ]
  },
  {
   "attachments": {},
   "cell_type": "markdown",
   "metadata": {},
   "source": [
    "### Part 2: Apply DFS multiple times\n",
    "\n",
    "For part 2, we can just re-run dfs for each small cave marked as a \"visit twice\" cave,\n",
    "union the resulting paths and count them.\n",
    "\n",
    "We added fields `small_cave_exception` and `exception_visited_once` to `State` and a \n",
    "`if node == self.small_cave_exception` branch to `State.conditionally_visit` + default parameter \n",
    "`small_cave_exception` to `dfs`."
   ]
  },
  {
   "cell_type": "code",
   "execution_count": 142,
   "metadata": {},
   "outputs": [],
   "source": [
    "def p2(graph: Graph) -> int:\n",
    "    all_caves = set(graph.keys()).union({v for vs in graph.values() for v in vs})\n",
    "    all_caves = all_caves.difference({\"start\", \"end\"})\n",
    "\n",
    "    paths = set()\n",
    "    for cave in all_caves:\n",
    "        if cave.islower():\n",
    "            paths = paths.union(dfs(graph, small_cave_exception=cave))\n",
    "    return len(paths)"
   ]
  },
  {
   "cell_type": "code",
   "execution_count": 148,
   "metadata": {},
   "outputs": [],
   "source": [
    "assert p2(example1) == 36\n",
    "assert p2(example2) == 103\n",
    "assert p2(example3) == 3509 "
   ]
  },
  {
   "cell_type": "code",
   "execution_count": 150,
   "metadata": {},
   "outputs": [],
   "source": [
    "assert p2(graph) == 137948"
   ]
  },
  {
   "attachments": {},
   "cell_type": "markdown",
   "metadata": {},
   "source": [
    "### TODO: Faster Part #2?\n",
    "\n",
    "One possibility to optimize it is to avoid repeated dfs runs and instead add state for `small_cave_exception` assignment\n",
    "and additional branching on encountering a small cave: we should add branches where it is selected as a small_cave_exn\n",
    "and where it's not, as long as there are no previously selected small_cave_exn's."
   ]
  },
  {
   "cell_type": "code",
   "execution_count": 151,
   "metadata": {},
   "outputs": [],
   "source": [
    "def dfs2(graph: Graph, small_cave_exception: Optional[str]=None) -> set[Tuple[str, ...]]:\n",
    "    paths = set()\n",
    "\n",
    "    stack = [(\"start\", State())]\n",
    "    while stack:\n",
    "        curr, state = set.pop()\n",
    "\n",
    "        if curr == \"end\":\n",
    "            state.advance(curr)\n",
    "            paths.add(state.get_path())\n",
    "            continue\n",
    "            \n",
    "        if not state.is_visited(curr):\n",
    "            state.conditionally_visit(curr)\n",
    "\n",
    "            for next in graph[curr]:\n",
    "                next_state = deepcopy(state)\n",
    "                next_state.advance(curr)\n",
    "\n",
    "                stack.append((next, next_state))\n",
    "        \n",
    "        if curr.islower() and state.small_cave_exception is None:\n",
    "            state = deepcopy(state)\n",
    "            state.small_cave_exception = small_cave_exception\n",
    "\n",
    "            state.conditionally_visit(curr)\n",
    "            for next in graph[curr]:\n",
    "                next_state = deepcopy(state)\n",
    "                next_state.advance(curr)\n",
    "\n",
    "                stack.append((next, next_state))\n",
    "\n",
    "    return paths"
   ]
  },
  {
   "cell_type": "code",
   "execution_count": 152,
   "metadata": {},
   "outputs": [
    {
     "ename": "KeyboardInterrupt",
     "evalue": "",
     "output_type": "error",
     "traceback": [
      "\u001b[0;31m---------------------------------------------------------------------------\u001b[0m",
      "\u001b[0;31mKeyboardInterrupt\u001b[0m                         Traceback (most recent call last)",
      "\u001b[1;32m/home/lakret/mine/gir/aoc_examples/2021d12.ipynb Cell 23\u001b[0m in \u001b[0;36m<cell line: 1>\u001b[0;34m()\u001b[0m\n\u001b[0;32m----> <a href='vscode-notebook-cell://wsl%2Bubuntu/home/lakret/mine/gir/aoc_examples/2021d12.ipynb#X64sdnNjb2RlLXJlbW90ZQ%3D%3D?line=0'>1</a>\u001b[0m dfs2(example1)\n",
      "\u001b[1;32m/home/lakret/mine/gir/aoc_examples/2021d12.ipynb Cell 23\u001b[0m in \u001b[0;36mdfs2\u001b[0;34m(graph, small_cave_exception)\u001b[0m\n\u001b[1;32m     <a href='vscode-notebook-cell://wsl%2Bubuntu/home/lakret/mine/gir/aoc_examples/2021d12.ipynb#X64sdnNjb2RlLXJlbW90ZQ%3D%3D?line=25'>26</a>\u001b[0m state\u001b[39m.\u001b[39mconditionally_visit(curr)\n\u001b[1;32m     <a href='vscode-notebook-cell://wsl%2Bubuntu/home/lakret/mine/gir/aoc_examples/2021d12.ipynb#X64sdnNjb2RlLXJlbW90ZQ%3D%3D?line=26'>27</a>\u001b[0m \u001b[39mfor\u001b[39;00m \u001b[39mnext\u001b[39m \u001b[39min\u001b[39;00m graph[curr]:\n\u001b[0;32m---> <a href='vscode-notebook-cell://wsl%2Bubuntu/home/lakret/mine/gir/aoc_examples/2021d12.ipynb#X64sdnNjb2RlLXJlbW90ZQ%3D%3D?line=27'>28</a>\u001b[0m     next_state \u001b[39m=\u001b[39m deepcopy(state)\n\u001b[1;32m     <a href='vscode-notebook-cell://wsl%2Bubuntu/home/lakret/mine/gir/aoc_examples/2021d12.ipynb#X64sdnNjb2RlLXJlbW90ZQ%3D%3D?line=28'>29</a>\u001b[0m     next_state\u001b[39m.\u001b[39madvance(curr)\n\u001b[1;32m     <a href='vscode-notebook-cell://wsl%2Bubuntu/home/lakret/mine/gir/aoc_examples/2021d12.ipynb#X64sdnNjb2RlLXJlbW90ZQ%3D%3D?line=30'>31</a>\u001b[0m     stack\u001b[39m.\u001b[39mappend((\u001b[39mnext\u001b[39m, next_state))\n",
      "File \u001b[0;32m~/.pyenv/versions/3.10.0/lib/python3.10/copy.py:172\u001b[0m, in \u001b[0;36mdeepcopy\u001b[0;34m(x, memo, _nil)\u001b[0m\n\u001b[1;32m    170\u001b[0m                 y \u001b[39m=\u001b[39m x\n\u001b[1;32m    171\u001b[0m             \u001b[39melse\u001b[39;00m:\n\u001b[0;32m--> 172\u001b[0m                 y \u001b[39m=\u001b[39m _reconstruct(x, memo, \u001b[39m*\u001b[39;49mrv)\n\u001b[1;32m    174\u001b[0m \u001b[39m# If is its own copy, don't memoize.\u001b[39;00m\n\u001b[1;32m    175\u001b[0m \u001b[39mif\u001b[39;00m y \u001b[39mis\u001b[39;00m \u001b[39mnot\u001b[39;00m x:\n",
      "File \u001b[0;32m~/.pyenv/versions/3.10.0/lib/python3.10/copy.py:271\u001b[0m, in \u001b[0;36m_reconstruct\u001b[0;34m(x, memo, func, args, state, listiter, dictiter, deepcopy)\u001b[0m\n\u001b[1;32m    269\u001b[0m \u001b[39mif\u001b[39;00m state \u001b[39mis\u001b[39;00m \u001b[39mnot\u001b[39;00m \u001b[39mNone\u001b[39;00m:\n\u001b[1;32m    270\u001b[0m     \u001b[39mif\u001b[39;00m deep:\n\u001b[0;32m--> 271\u001b[0m         state \u001b[39m=\u001b[39m deepcopy(state, memo)\n\u001b[1;32m    272\u001b[0m     \u001b[39mif\u001b[39;00m \u001b[39mhasattr\u001b[39m(y, \u001b[39m'\u001b[39m\u001b[39m__setstate__\u001b[39m\u001b[39m'\u001b[39m):\n\u001b[1;32m    273\u001b[0m         y\u001b[39m.\u001b[39m__setstate__(state)\n",
      "File \u001b[0;32m~/.pyenv/versions/3.10.0/lib/python3.10/copy.py:146\u001b[0m, in \u001b[0;36mdeepcopy\u001b[0;34m(x, memo, _nil)\u001b[0m\n\u001b[1;32m    144\u001b[0m copier \u001b[39m=\u001b[39m _deepcopy_dispatch\u001b[39m.\u001b[39mget(\u001b[39mcls\u001b[39m)\n\u001b[1;32m    145\u001b[0m \u001b[39mif\u001b[39;00m copier \u001b[39mis\u001b[39;00m \u001b[39mnot\u001b[39;00m \u001b[39mNone\u001b[39;00m:\n\u001b[0;32m--> 146\u001b[0m     y \u001b[39m=\u001b[39m copier(x, memo)\n\u001b[1;32m    147\u001b[0m \u001b[39melse\u001b[39;00m:\n\u001b[1;32m    148\u001b[0m     \u001b[39mif\u001b[39;00m \u001b[39missubclass\u001b[39m(\u001b[39mcls\u001b[39m, \u001b[39mtype\u001b[39m):\n",
      "File \u001b[0;32m~/.pyenv/versions/3.10.0/lib/python3.10/copy.py:231\u001b[0m, in \u001b[0;36m_deepcopy_dict\u001b[0;34m(x, memo, deepcopy)\u001b[0m\n\u001b[1;32m    229\u001b[0m memo[\u001b[39mid\u001b[39m(x)] \u001b[39m=\u001b[39m y\n\u001b[1;32m    230\u001b[0m \u001b[39mfor\u001b[39;00m key, value \u001b[39min\u001b[39;00m x\u001b[39m.\u001b[39mitems():\n\u001b[0;32m--> 231\u001b[0m     y[deepcopy(key, memo)] \u001b[39m=\u001b[39m deepcopy(value, memo)\n\u001b[1;32m    232\u001b[0m \u001b[39mreturn\u001b[39;00m y\n",
      "File \u001b[0;32m~/.pyenv/versions/3.10.0/lib/python3.10/copy.py:146\u001b[0m, in \u001b[0;36mdeepcopy\u001b[0;34m(x, memo, _nil)\u001b[0m\n\u001b[1;32m    144\u001b[0m copier \u001b[39m=\u001b[39m _deepcopy_dispatch\u001b[39m.\u001b[39mget(\u001b[39mcls\u001b[39m)\n\u001b[1;32m    145\u001b[0m \u001b[39mif\u001b[39;00m copier \u001b[39mis\u001b[39;00m \u001b[39mnot\u001b[39;00m \u001b[39mNone\u001b[39;00m:\n\u001b[0;32m--> 146\u001b[0m     y \u001b[39m=\u001b[39m copier(x, memo)\n\u001b[1;32m    147\u001b[0m \u001b[39melse\u001b[39;00m:\n\u001b[1;32m    148\u001b[0m     \u001b[39mif\u001b[39;00m \u001b[39missubclass\u001b[39m(\u001b[39mcls\u001b[39m, \u001b[39mtype\u001b[39m):\n",
      "File \u001b[0;32m~/.pyenv/versions/3.10.0/lib/python3.10/copy.py:206\u001b[0m, in \u001b[0;36m_deepcopy_list\u001b[0;34m(x, memo, deepcopy)\u001b[0m\n\u001b[1;32m    204\u001b[0m append \u001b[39m=\u001b[39m y\u001b[39m.\u001b[39mappend\n\u001b[1;32m    205\u001b[0m \u001b[39mfor\u001b[39;00m a \u001b[39min\u001b[39;00m x:\n\u001b[0;32m--> 206\u001b[0m     append(deepcopy(a, memo))\n\u001b[1;32m    207\u001b[0m \u001b[39mreturn\u001b[39;00m y\n",
      "File \u001b[0;32m~/.pyenv/versions/3.10.0/lib/python3.10/copy.py:144\u001b[0m, in \u001b[0;36mdeepcopy\u001b[0;34m(x, memo, _nil)\u001b[0m\n\u001b[1;32m    140\u001b[0m     \u001b[39mreturn\u001b[39;00m y\n\u001b[1;32m    142\u001b[0m \u001b[39mcls\u001b[39m \u001b[39m=\u001b[39m \u001b[39mtype\u001b[39m(x)\n\u001b[0;32m--> 144\u001b[0m copier \u001b[39m=\u001b[39m _deepcopy_dispatch\u001b[39m.\u001b[39;49mget(\u001b[39mcls\u001b[39;49m)\n\u001b[1;32m    145\u001b[0m \u001b[39mif\u001b[39;00m copier \u001b[39mis\u001b[39;00m \u001b[39mnot\u001b[39;00m \u001b[39mNone\u001b[39;00m:\n\u001b[1;32m    146\u001b[0m     y \u001b[39m=\u001b[39m copier(x, memo)\n",
      "\u001b[0;31mKeyboardInterrupt\u001b[0m: "
     ]
    }
   ],
   "source": [
    "dfs2(example1)"
   ]
  },
  {
   "attachments": {},
   "cell_type": "markdown",
   "metadata": {},
   "source": [
    "## Upshot\n",
    "\n",
    "It seems like a good example as well! Will need to check if we can provide a nice visualization for it though."
   ]
  }
 ],
 "metadata": {
  "kernelspec": {
   "display_name": "Python 3",
   "language": "python",
   "name": "python3"
  },
  "language_info": {
   "codemirror_mode": {
    "name": "ipython",
    "version": 3
   },
   "file_extension": ".py",
   "mimetype": "text/x-python",
   "name": "python",
   "nbconvert_exporter": "python",
   "pygments_lexer": "ipython3",
   "version": "3.10.0"
  },
  "orig_nbformat": 4
 },
 "nbformat": 4,
 "nbformat_minor": 2
}
