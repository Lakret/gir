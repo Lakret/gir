{
 "cells": [
  {
   "attachments": {},
   "cell_type": "markdown",
   "metadata": {},
   "source": [
    "## Advent of Code 2021, Day 12\n",
    "\n",
    "This might be a good example for depth-first search according to the classifier."
   ]
  },
  {
   "attachments": {},
   "cell_type": "markdown",
   "metadata": {},
   "source": [
    "#### Input Processing"
   ]
  },
  {
   "cell_type": "code",
   "execution_count": 75,
   "metadata": {},
   "outputs": [],
   "source": [
    "from collections import Counter, defaultdict\n",
    "from copy import deepcopy\n",
    "from dataclasses import dataclass\n",
    "from typing import Tuple"
   ]
  },
  {
   "cell_type": "code",
   "execution_count": 30,
   "metadata": {},
   "outputs": [],
   "source": [
    "example1 = \"\"\"start-A\n",
    "start-b\n",
    "A-c\n",
    "A-b\n",
    "b-d\n",
    "A-end\n",
    "b-end\n",
    "\"\"\".splitlines()"
   ]
  },
  {
   "cell_type": "code",
   "execution_count": 31,
   "metadata": {},
   "outputs": [],
   "source": [
    "example2 = \"\"\"dc-end\n",
    "HN-start\n",
    "start-kj\n",
    "dc-start\n",
    "dc-HN\n",
    "LN-dc\n",
    "HN-end\n",
    "kj-sa\n",
    "kj-HN\n",
    "kj-dc\n",
    "\"\"\".splitlines()"
   ]
  },
  {
   "cell_type": "code",
   "execution_count": 32,
   "metadata": {},
   "outputs": [],
   "source": [
    "example3 = \"\"\"fs-end\n",
    "he-DX\n",
    "fs-he\n",
    "start-DX\n",
    "pj-DX\n",
    "end-zg\n",
    "zg-sl\n",
    "zg-pj\n",
    "pj-he\n",
    "RW-he\n",
    "fs-DX\n",
    "pj-RW\n",
    "zg-RW\n",
    "start-pj\n",
    "he-WI\n",
    "zg-he\n",
    "pj-fs\n",
    "start-RW\n",
    "\"\"\".splitlines()"
   ]
  },
  {
   "cell_type": "code",
   "execution_count": 33,
   "metadata": {},
   "outputs": [],
   "source": [
    "with open(\"inputs/2021d12\") as f:\n",
    "  input = [line.strip() for line in  f.readlines()]"
   ]
  },
  {
   "cell_type": "code",
   "execution_count": 34,
   "metadata": {},
   "outputs": [],
   "source": [
    "Graph = dict[str, list[str]]\n",
    "\n",
    "def parse(input: str) -> Graph:\n",
    "    \"\"\"\n",
    "    Returns a graph represented as a hashmap.\n",
    "    \n",
    "    Since the graph in question is (mostly) undirected, we automatically add backedges\n",
    "    (i.e., if `A` is connected to `B`, we add both `A -> [B, ...]` and `B -> [A, ...]`) entries.\n",
    "    The only exceptions are `start` and `end`, since those are source and sink nodes.\n",
    "    \"\"\"\n",
    "    graph = defaultdict(list)\n",
    "\n",
    "    for edge in input:\n",
    "        (v1, v2) = edge.split(\"-\")\n",
    "\n",
    "        if v1 == \"start\" or v2 == \"end\":\n",
    "            graph[v1].append(v2)\n",
    "        elif v1 == \"end\" or v2 == \"start\":\n",
    "            graph[v2].append(v1)\n",
    "        else:\n",
    "          graph[v1].append(v2)\n",
    "          graph[v2].append(v1)\n",
    "\n",
    "    return graph"
   ]
  },
  {
   "cell_type": "code",
   "execution_count": 35,
   "metadata": {},
   "outputs": [],
   "source": [
    "example1 = parse(example1)\n",
    "example2 = parse(example2)\n",
    "example3 = parse(example3)\n",
    "graph = parse(input)"
   ]
  },
  {
   "cell_type": "code",
   "execution_count": 39,
   "metadata": {},
   "outputs": [
    {
     "data": {
      "text/plain": [
       "defaultdict(list,\n",
       "            {'LA': ['sn', 'mo', 'zs', 'end'],\n",
       "             'sn': ['LA', 'mo', 'mh', 'vx', 'RD', 'JQ'],\n",
       "             'mo': ['LA', 'sn', 'mh', 'JQ', 'zs', 'RD'],\n",
       "             'zs': ['LA', 'end', 'JI', 'mo', 'rk', 'JQ'],\n",
       "             'RD': ['end', 'mo', 'sn'],\n",
       "             'start': ['vx', 'mh', 'JQ'],\n",
       "             'mh': ['mo', 'sn', 'JQ', 'vx'],\n",
       "             'JI': ['zs'],\n",
       "             'JQ': ['mo', 'mh', 'zs', 'vx', 'sn'],\n",
       "             'rk': ['zs'],\n",
       "             'vx': ['sn', 'mh', 'JQ']})"
      ]
     },
     "execution_count": 39,
     "metadata": {},
     "output_type": "execute_result"
    }
   ],
   "source": [
    "graph"
   ]
  },
  {
   "attachments": {},
   "cell_type": "markdown",
   "metadata": {},
   "source": [
    "### Part 1: Depth-First Search\n",
    "\n",
    "We can then use a standard depth-first search algorithm with an added condition:\n",
    "\n",
    "- lowercase nodes can only be visited once (uppercase can be visited any number of times)."
   ]
  },
  {
   "cell_type": "code",
   "execution_count": 76,
   "metadata": {},
   "outputs": [],
   "source": [
    "@dataclass\n",
    "class State:\n",
    "    path: list[str]\n",
    "    visited: set[str]\n",
    "    visits: Counter[str]"
   ]
  },
  {
   "cell_type": "code",
   "execution_count": 73,
   "metadata": {},
   "outputs": [],
   "source": [
    "def dfs(graph: Graph) -> set[Tuple[str, ...]]:\n",
    "    paths = set()\n",
    "\n",
    "    stack = [(\"start\", [])]\n",
    "    visits, visited = Counter(), set()\n",
    "    while stack:\n",
    "        curr, path = stack.pop()\n",
    "        print((curr, path))\n",
    "\n",
    "        if curr == \"end\":\n",
    "            path = deepcopy(path)\n",
    "            path.append(curr)\n",
    "        \n",
    "            paths.add(tuple(path))\n",
    "            continue\n",
    "\n",
    "        if curr not in visited:\n",
    "            # TODO: can we extract it into a helper\n",
    "            # can only be visited once\n",
    "            if curr.islower():\n",
    "                visited.add(curr)\n",
    "            else:\n",
    "                # uppercase nodes could be visited twice\n",
    "                visits[curr] += 1\n",
    "                if visits[curr] == 2:\n",
    "                    visited.add(curr)\n",
    "\n",
    "            for next in graph[curr]:\n",
    "                next_path = deepcopy(path)\n",
    "                next_path.append(curr)\n",
    "\n",
    "                stack.append((next, next_path))\n",
    "    \n",
    "    return paths"
   ]
  },
  {
   "cell_type": "code",
   "execution_count": 74,
   "metadata": {},
   "outputs": [
    {
     "name": "stdout",
     "output_type": "stream",
     "text": [
      "('start', [])\n",
      "('b', ['start'])\n",
      "('end', ['start', 'b'])\n",
      "('d', ['start', 'b'])\n",
      "('b', ['start', 'b', 'd'])\n",
      "('A', ['start', 'b'])\n",
      "('end', ['start', 'b', 'A'])\n",
      "('b', ['start', 'b', 'A'])\n",
      "('c', ['start', 'b', 'A'])\n",
      "('A', ['start', 'b', 'A', 'c'])\n",
      "('end', ['start', 'b', 'A', 'c', 'A'])\n",
      "('b', ['start', 'b', 'A', 'c', 'A'])\n",
      "('c', ['start', 'b', 'A', 'c', 'A'])\n",
      "('A', ['start'])\n"
     ]
    },
    {
     "data": {
      "text/plain": [
       "{('start', 'b', 'A', 'c', 'A', 'end'),\n",
       " ('start', 'b', 'A', 'end'),\n",
       " ('start', 'b', 'end')}"
      ]
     },
     "execution_count": 74,
     "metadata": {},
     "output_type": "execute_result"
    }
   ],
   "source": [
    "dfs(example1)"
   ]
  },
  {
   "cell_type": "code",
   "execution_count": 72,
   "metadata": {},
   "outputs": [
    {
     "data": {
      "text/plain": [
       "['A', 'b']"
      ]
     },
     "execution_count": 72,
     "metadata": {},
     "output_type": "execute_result"
    }
   ],
   "source": [
    "example1[\"start\"]"
   ]
  }
 ],
 "metadata": {
  "kernelspec": {
   "display_name": "Python 3",
   "language": "python",
   "name": "python3"
  },
  "language_info": {
   "codemirror_mode": {
    "name": "ipython",
    "version": 3
   },
   "file_extension": ".py",
   "mimetype": "text/x-python",
   "name": "python",
   "nbconvert_exporter": "python",
   "pygments_lexer": "ipython3",
   "version": "3.10.0"
  },
  "orig_nbformat": 4
 },
 "nbformat": 4,
 "nbformat_minor": 2
}
