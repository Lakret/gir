{
 "cells": [
  {
   "attachments": {},
   "cell_type": "markdown",
   "metadata": {},
   "source": [
    "## Advent of Code 2021, Day 12\n",
    "\n",
    "This might be a good example for depth-first search according to the classifier."
   ]
  },
  {
   "attachments": {},
   "cell_type": "markdown",
   "metadata": {},
   "source": [
    "#### Input Processing"
   ]
  },
  {
   "cell_type": "code",
   "execution_count": 113,
   "metadata": {},
   "outputs": [],
   "source": [
    "from collections import defaultdict\n",
    "from copy import deepcopy\n",
    "from dataclasses import dataclass, field\n",
    "from typing import Tuple, Optional"
   ]
  },
  {
   "cell_type": "code",
   "execution_count": 30,
   "metadata": {},
   "outputs": [],
   "source": [
    "example1 = \"\"\"start-A\n",
    "start-b\n",
    "A-c\n",
    "A-b\n",
    "b-d\n",
    "A-end\n",
    "b-end\n",
    "\"\"\".splitlines()"
   ]
  },
  {
   "cell_type": "code",
   "execution_count": 31,
   "metadata": {},
   "outputs": [],
   "source": [
    "example2 = \"\"\"dc-end\n",
    "HN-start\n",
    "start-kj\n",
    "dc-start\n",
    "dc-HN\n",
    "LN-dc\n",
    "HN-end\n",
    "kj-sa\n",
    "kj-HN\n",
    "kj-dc\n",
    "\"\"\".splitlines()"
   ]
  },
  {
   "cell_type": "code",
   "execution_count": 32,
   "metadata": {},
   "outputs": [],
   "source": [
    "example3 = \"\"\"fs-end\n",
    "he-DX\n",
    "fs-he\n",
    "start-DX\n",
    "pj-DX\n",
    "end-zg\n",
    "zg-sl\n",
    "zg-pj\n",
    "pj-he\n",
    "RW-he\n",
    "fs-DX\n",
    "pj-RW\n",
    "zg-RW\n",
    "start-pj\n",
    "he-WI\n",
    "zg-he\n",
    "pj-fs\n",
    "start-RW\n",
    "\"\"\".splitlines()"
   ]
  },
  {
   "cell_type": "code",
   "execution_count": 33,
   "metadata": {},
   "outputs": [],
   "source": [
    "with open(\"inputs/2021d12\") as f:\n",
    "  input = [line.strip() for line in  f.readlines()]"
   ]
  },
  {
   "cell_type": "code",
   "execution_count": 34,
   "metadata": {},
   "outputs": [],
   "source": [
    "Graph = dict[str, list[str]]\n",
    "\n",
    "def parse(input: str) -> Graph:\n",
    "    \"\"\"\n",
    "    Returns a graph represented as a hashmap.\n",
    "    \n",
    "    Since the graph in question is (mostly) undirected, we automatically add backedges\n",
    "    (i.e., if `A` is connected to `B`, we add both `A -> [B, ...]` and `B -> [A, ...]`) entries.\n",
    "    The only exceptions are `start` and `end`, since those are source and sink nodes.\n",
    "    \"\"\"\n",
    "    graph = defaultdict(list)\n",
    "\n",
    "    for edge in input:\n",
    "        (v1, v2) = edge.split(\"-\")\n",
    "\n",
    "        if v1 == \"start\" or v2 == \"end\":\n",
    "            graph[v1].append(v2)\n",
    "        elif v1 == \"end\" or v2 == \"start\":\n",
    "            graph[v2].append(v1)\n",
    "        else:\n",
    "          graph[v1].append(v2)\n",
    "          graph[v2].append(v1)\n",
    "\n",
    "    return graph"
   ]
  },
  {
   "cell_type": "code",
   "execution_count": 35,
   "metadata": {},
   "outputs": [],
   "source": [
    "example1 = parse(example1)\n",
    "example2 = parse(example2)\n",
    "example3 = parse(example3)\n",
    "graph = parse(input)"
   ]
  },
  {
   "cell_type": "code",
   "execution_count": 39,
   "metadata": {},
   "outputs": [
    {
     "data": {
      "text/plain": [
       "defaultdict(list,\n",
       "            {'LA': ['sn', 'mo', 'zs', 'end'],\n",
       "             'sn': ['LA', 'mo', 'mh', 'vx', 'RD', 'JQ'],\n",
       "             'mo': ['LA', 'sn', 'mh', 'JQ', 'zs', 'RD'],\n",
       "             'zs': ['LA', 'end', 'JI', 'mo', 'rk', 'JQ'],\n",
       "             'RD': ['end', 'mo', 'sn'],\n",
       "             'start': ['vx', 'mh', 'JQ'],\n",
       "             'mh': ['mo', 'sn', 'JQ', 'vx'],\n",
       "             'JI': ['zs'],\n",
       "             'JQ': ['mo', 'mh', 'zs', 'vx', 'sn'],\n",
       "             'rk': ['zs'],\n",
       "             'vx': ['sn', 'mh', 'JQ']})"
      ]
     },
     "execution_count": 39,
     "metadata": {},
     "output_type": "execute_result"
    }
   ],
   "source": [
    "graph"
   ]
  },
  {
   "attachments": {},
   "cell_type": "markdown",
   "metadata": {},
   "source": [
    "### Part 1: Depth-First Search\n",
    "\n",
    "We can then use a standard depth-first search algorithm with an added condition:\n",
    "\n",
    "- lowercase nodes can only be visited once (uppercase can be visited any number of times).\n",
    "\n",
    "We will extract logic for this condition and maintaining paths into a separate dataclass `State`\n",
    "to keep our DFS implementation clean."
   ]
  },
  {
   "cell_type": "code",
   "execution_count": 180,
   "metadata": {},
   "outputs": [],
   "source": [
    "@dataclass\n",
    "class State:\n",
    "    path: list[str] = field(default_factory=list)\n",
    "    visited: set[str] = field(default_factory=set)\n",
    "    # only relevant for p2, see below\n",
    "    small_cave_exception: Optional[str] = None\n",
    "    exception_visited_once: bool = False\n",
    "\n",
    "\n",
    "    def conditionally_visit(self, node: str):\n",
    "        # only relevant for p2\n",
    "        if node == self.small_cave_exception:\n",
    "            if self.exception_visited_once:\n",
    "                self.visited.add(node)\n",
    "            else:\n",
    "                self.exception_visited_once = True\n",
    "        # relevant for both p1 and p2\n",
    "        elif node.islower():\n",
    "            self.visited.add(node)\n",
    "    \n",
    "    def is_visited(self, node: str) -> bool:\n",
    "        return node in self.visited\n",
    "    \n",
    "    def advance(self, node: str):\n",
    "        self.path.append(node)\n",
    "\n",
    "    def get_path(self) -> list[str]:\n",
    "        return tuple(self.path)"
   ]
  },
  {
   "cell_type": "code",
   "execution_count": 181,
   "metadata": {},
   "outputs": [],
   "source": [
    "def dfs(graph: Graph, small_cave_exception: Optional[str]=None) -> list[list[str]]:\n",
    "    paths = []\n",
    "\n",
    "    stack = [(\"start\", State(small_cave_exception=small_cave_exception))]\n",
    "    while stack:\n",
    "        curr, state = stack.pop()\n",
    "\n",
    "        if curr == \"end\":\n",
    "            state.advance(curr)\n",
    "            paths.append(state.get_path)\n",
    "            continue\n",
    "\n",
    "        if not state.is_visited(curr):\n",
    "            state.conditionally_visit(curr)\n",
    "\n",
    "            for next in graph[curr]:\n",
    "                next_state = deepcopy(state)\n",
    "                next_state.advance(curr)\n",
    "\n",
    "                stack.append((next, next_state))\n",
    "    \n",
    "    return paths"
   ]
  },
  {
   "cell_type": "code",
   "execution_count": 182,
   "metadata": {},
   "outputs": [],
   "source": [
    "def p1(graph: Graph) -> int:\n",
    "    return len(dfs(graph))"
   ]
  },
  {
   "cell_type": "code",
   "execution_count": 183,
   "metadata": {},
   "outputs": [],
   "source": [
    "assert p1(example1) == 10\n",
    "assert p1(example2) == 19\n",
    "assert p1(example3) == 226"
   ]
  },
  {
   "cell_type": "code",
   "execution_count": 186,
   "metadata": {},
   "outputs": [],
   "source": [
    "assert p1(graph) == 4970"
   ]
  },
  {
   "attachments": {},
   "cell_type": "markdown",
   "metadata": {},
   "source": [
    "### Part 2: Apply DFS multiple times\n",
    "\n",
    "For part 2, we can just re-run dfs for each small cave marked as a \"visit twice\" cave,\n",
    "union the resulting paths and count them.\n",
    "\n",
    "We added fields `small_cave_exception` and `exception_visited_once` to `State` and a \n",
    "`if node == self.small_cave_exception` branch to `State.conditionally_visit` + default parameter \n",
    "`small_cave_exception` to `dfs`."
   ]
  },
  {
   "cell_type": "code",
   "execution_count": 142,
   "metadata": {},
   "outputs": [],
   "source": [
    "def p2(graph: Graph) -> int:\n",
    "    all_caves = set(graph.keys()).union({v for vs in graph.values() for v in vs})\n",
    "    all_caves = all_caves.difference({\"start\", \"end\"})\n",
    "\n",
    "    paths = set()\n",
    "    for cave in all_caves:\n",
    "        if cave.islower():\n",
    "            paths = paths.union(dfs(graph, small_cave_exception=cave))\n",
    "    return len(paths)"
   ]
  },
  {
   "cell_type": "code",
   "execution_count": 148,
   "metadata": {},
   "outputs": [],
   "source": [
    "assert p2(example1) == 36\n",
    "assert p2(example2) == 103\n",
    "assert p2(example3) == 3509 "
   ]
  },
  {
   "cell_type": "code",
   "execution_count": 150,
   "metadata": {},
   "outputs": [],
   "source": [
    "assert p2(graph) == 137948"
   ]
  },
  {
   "attachments": {},
   "cell_type": "markdown",
   "metadata": {},
   "source": [
    "## Upshot\n",
    "\n",
    "It seems like a good example as well! Will need to check if we can provide a nice visualization for it though."
   ]
  }
 ],
 "metadata": {
  "kernelspec": {
   "display_name": "Python 3",
   "language": "python",
   "name": "python3"
  },
  "language_info": {
   "codemirror_mode": {
    "name": "ipython",
    "version": 3
   },
   "file_extension": ".py",
   "mimetype": "text/x-python",
   "name": "python",
   "nbconvert_exporter": "python",
   "pygments_lexer": "ipython3",
   "version": "3.10.0"
  },
  "orig_nbformat": 4
 },
 "nbformat": 4,
 "nbformat_minor": 2
}
