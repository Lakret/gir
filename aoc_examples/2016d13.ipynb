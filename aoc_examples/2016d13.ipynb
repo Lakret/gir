{
 "cells": [
  {
   "attachments": {},
   "cell_type": "markdown",
   "metadata": {},
   "source": [
    "### Advent of Code 2016, Day 13\n",
    "\n",
    "This is supposed to be solvable by breadth-first search according\n",
    "to the [classifier](). Let's see if it'll make a good example."
   ]
  },
  {
   "cell_type": "code",
   "execution_count": 147,
   "metadata": {},
   "outputs": [],
   "source": [
    "from collections import deque\n",
    "from dataclasses import dataclass\n",
    "from typing import Optional, Iterator"
   ]
  },
  {
   "cell_type": "code",
   "execution_count": 148,
   "metadata": {},
   "outputs": [],
   "source": [
    "_ADJACENT_DELTA = [(-1, 0), (1, 0), (0, -1), (0, 1)]\n",
    "\n",
    "@dataclass(unsafe_hash=True)\n",
    "class Point:\n",
    "    x: int\n",
    "    y: int\n",
    "\n",
    "    def get_adjacent(self) -> Iterator[\"Point\"]:\n",
    "        for (dx, dy) in _ADJACENT_DELTA:\n",
    "            new_x, new_y = self.x + dx, self.y + dy\n",
    "            if new_x >= 0 and new_y >= 0:        \n",
    "                yield Point(new_x, new_y)"
   ]
  },
  {
   "cell_type": "code",
   "execution_count": 149,
   "metadata": {},
   "outputs": [],
   "source": [
    "FAV_NUMBER = 1350\n",
    "START = Point(1, 1)\n",
    "GOAL = Point(31, 39)"
   ]
  },
  {
   "cell_type": "code",
   "execution_count": 150,
   "metadata": {},
   "outputs": [],
   "source": [
    "def is_open(p: Point, fav_number: int=FAV_NUMBER) -> bool:\n",
    "    s = fav_number + p.x**2 + 3*p.x + 2*p.x*p.y + p.y + p.y**2\n",
    "    return bin(s).strip(\"0b\").count('1') % 2 == 0"
   ]
  },
  {
   "cell_type": "code",
   "execution_count": 151,
   "metadata": {},
   "outputs": [],
   "source": [
    "def open_adjacent(p: Point, fav_number: int=FAV_NUMBER) -> Iterator[\"Point\"]:\n",
    "    for adjacent in p.get_adjacent():\n",
    "        if is_open(adjacent, fav_number=fav_number):\n",
    "            yield adjacent"
   ]
  },
  {
   "cell_type": "code",
   "execution_count": 164,
   "metadata": {},
   "outputs": [],
   "source": [
    "def visualize(levels: int=10, fav_number: int=FAV_NUMBER):\n",
    "    for y in range(levels):\n",
    "        line = ['.' if is_open(Point(x, y), fav_number=fav_number) else '#' for x in range(levels)]\n",
    "        print(\"\".join(line))"
   ]
  },
  {
   "attachments": {},
   "cell_type": "markdown",
   "metadata": {},
   "source": [
    "Let's check if it matches test input:"
   ]
  },
  {
   "cell_type": "code",
   "execution_count": 153,
   "metadata": {},
   "outputs": [
    {
     "name": "stdout",
     "output_type": "stream",
     "text": [
      ".#.####.##\n",
      "..#..#...#\n",
      "#....##...\n",
      "###.#.###.\n",
      ".##..#..#.\n",
      "..##....#.\n",
      "#...##.###\n",
      ".##..#.##.\n",
      "#.###....#\n",
      "###.####.#\n"
     ]
    }
   ],
   "source": [
    "visualize(10, fav_number=10)"
   ]
  },
  {
   "attachments": {},
   "cell_type": "markdown",
   "metadata": {},
   "source": [
    "And for our input the maze looks like this:"
   ]
  },
  {
   "cell_type": "code",
   "execution_count": 154,
   "metadata": {},
   "outputs": [
    {
     "name": "stdout",
     "output_type": "stream",
     "text": [
      "##.######.##.####...#.##....#..#.#..#.##\n",
      ".....##.#..#.##.#.#.######..#.##..#.####\n",
      "###....###......#..#..#..####.###..#..#.\n",
      "#.####.####..###.#.##.#.#...#..#.#.##.##\n",
      "........######.###..###..##.#..###..##.#\n",
      "#..##.#..##..#.......###.#..###......#.#\n",
      "###.#........##.##.#.....#....#.##.#.###\n",
      "..##.######.#.#.##...###.##...##.#..#..#\n",
      ".#.##....##..##.#.###..#.###.#.##.#..#..\n",
      ".##.#..#.###.#..#...#.##...#..#.#..#....\n",
      "..######..#..#.######.#####.#..###..##.#\n",
      "....#.....##.#.##..#...##.#.##.####..#.#\n",
      ".##.#.##...#.......#......#.....#.###...\n",
      ".#..#.###.#######.########.##.#.###.##..\n",
      ".#..#..##.#...###.##...#.##.#..#.....##.\n",
      ".###.#.##.#.....#....#..#.##.#.####.#.#.\n",
      ".#.###...###.##.#.###.#.##.###...##..##.\n",
      ".#.....#..##.#..##..##...#.....#..##.#..\n",
      ".#..#####....#...###.#...##.#####.#..#..\n",
      "###....#.##.###.#..#.##.#.###..#..##.###\n",
      "#.###..####..##..#.#.##..#.....#...#.#..\n",
      "###.#....#.#...#..##..##...###.##.##..#.\n",
      "....###..##.##..#.###.#.####.#.##.###.#.\n",
      ".####.##..#######..#..#.....##.....#..##\n",
      ".#.....###..#......#..###.#.#.###..#....\n",
      ".#.##.#..##.#..########.###.###.##.##..#\n",
      ".#.##..#...####....#.......#...#.#.#####\n",
      "##.#.#...#....#..#.#.##..#.###..##.##...\n",
      "#..##.############.#.#####....#.#.....#.\n",
      "#.#.#.#..##..#....##..#....##.#.#..##.#.\n",
      "#..##.#....#.##.#.#.#.#.###.#..######.#.\n",
      "##.#..##.#..#.#.#.##..##..##.#.....#..##\n",
      "...#.#.##.#...#.##.#...#.#.######..#.#..\n",
      "#..#..#.#..###...#.##.##.##..##.#..#....\n",
      "##..#..###.#.#.#.####.##..#.....##..##..\n",
      "###.##.###..##..#...#.....#..######..##.\n",
      "#.#.....#.#.#.#..##.#.##.#####..#.##.##.\n",
      "##.####.##..#..#.#..##.#.##..#..####.##.\n",
      ".##....#.#.###...#...##......###..##....\n",
      "..#..#.#.#.####.###.#.#####.#...#....##.\n"
     ]
    }
   ],
   "source": [
    "visualize(40)"
   ]
  },
  {
   "attachments": {},
   "cell_type": "markdown",
   "metadata": {},
   "source": [
    "Time for the breadth-first search: since it will go level-by-level, in this case: \n",
    "all nodes checked at a given graph layer will be on the equal distance from the \"entrance\" at `(1, 1)`."
   ]
  },
  {
   "cell_type": "code",
   "execution_count": 155,
   "metadata": {},
   "outputs": [],
   "source": [
    "def bfs(fav_number: int=FAV_NUMBER, \n",
    "        start: Optional[Point]=None,\n",
    "        goal: Optional[Point]=None) -> dict[Point, Point]:\n",
    "    \"\"\"\n",
    "    A breadth-first implementation using deque as a queue.\n",
    "    \n",
    "    Starts at `start`, looks for `goal`, uses `fav_number` to figure out \n",
    "    if there are walls / node connectivity.\n",
    "\n",
    "    Returns a dict mapping each node to its \"parent\",\n",
    "    i.e. the node from which it can be reached on the shortest\n",
    "    path from `start`.\n",
    "    \"\"\"\n",
    "    start = START if start is None else start\n",
    "    goal = GOAL if goal is None else goal\n",
    "\n",
    "    parents = {}\n",
    "    queue, explored = deque([start]), set([start])\n",
    "    while queue:\n",
    "        curr = queue.popleft()\n",
    "\n",
    "        if curr == goal:\n",
    "            return parents\n",
    "\n",
    "        for next in open_adjacent(curr, fav_number):\n",
    "            if next not in explored:\n",
    "                explored.add(next)\n",
    "                parents[next] = curr\n",
    "                queue.append(next)\n"
   ]
  },
  {
   "cell_type": "code",
   "execution_count": 156,
   "metadata": {},
   "outputs": [],
   "source": [
    "def reconstruct_path(parents: dict[Point, Point], \n",
    "                     start: Optional[Point]=None,\n",
    "                     goal: Optional[Point]=None) -> list[Point]:\n",
    "    start = START if start is None else start\n",
    "    goal = GOAL if goal is None else goal\n",
    "\n",
    "    rev = [goal]\n",
    "    curr = goal\n",
    "    while curr in parents:\n",
    "        parent = parents[curr]\n",
    "        rev.append(parent)\n",
    "        curr = parent\n",
    "    \n",
    "    rev.reverse()\n",
    "    return rev"
   ]
  },
  {
   "attachments": {},
   "cell_type": "markdown",
   "metadata": {},
   "source": [
    "This is enough to solve p1!"
   ]
  },
  {
   "cell_type": "code",
   "execution_count": 157,
   "metadata": {},
   "outputs": [],
   "source": [
    "def p1(fav_number: int=FAV_NUMBER, goal: Optional[Point]=None) -> int:\n",
    "    parents = bfs(fav_number=fav_number, goal=goal)\n",
    "    p1_path = reconstruct_path(parents, goal=goal)\n",
    "    return len(p1_path) - 1"
   ]
  },
  {
   "cell_type": "code",
   "execution_count": 158,
   "metadata": {},
   "outputs": [],
   "source": [
    "assert p1(fav_number=10, goal=Point(7, 4)) == 11\n",
    "assert p1() == 92"
   ]
  },
  {
   "attachments": {},
   "cell_type": "markdown",
   "metadata": {},
   "source": [
    "We'll just copy and slightly modify the `bfs` function above for p2."
   ]
  },
  {
   "cell_type": "code",
   "execution_count": 159,
   "metadata": {},
   "outputs": [],
   "source": [
    "def p2(max_steps: int=50,\n",
    "       fav_number: int=FAV_NUMBER, \n",
    "       start: Optional[Point]=None) -> set[Point]:\n",
    "    \"\"\"\n",
    "    Another breadth-first implementation, based on the `bfs`, but\n",
    "    using `max_steps` as a termination condition.\n",
    "\n",
    "    Instead of returning `parents`, it uses keys & values in that dict\n",
    "    to compute all visited nodes and returns a corresponding set.\n",
    "    \"\"\"\n",
    "    start = START if start is None else start\n",
    "\n",
    "    parents = {}\n",
    "    queue, explored = deque([(start, 0)]), set([start])\n",
    "    while queue:\n",
    "        (curr, step) = queue.popleft()\n",
    "\n",
    "        if step == max_steps:\n",
    "            return set(parents.keys()).union(set(parents.values()))\n",
    "\n",
    "        for next in open_adjacent(curr, fav_number):\n",
    "            if next not in explored:\n",
    "                explored.add(next)\n",
    "                parents[next] = curr\n",
    "                queue.append((next, step + 1))\n"
   ]
  },
  {
   "cell_type": "code",
   "execution_count": 160,
   "metadata": {},
   "outputs": [],
   "source": [
    "assert Point(7, 4) in p2(11, fav_number=10)\n",
    "assert Point(7, 5) in p2(11, fav_number=10)\n",
    "assert Point(7, 4) not in p2(10, fav_number=10)\n",
    "assert Point(7, 5) in p2(10, fav_number=10)"
   ]
  },
  {
   "cell_type": "code",
   "execution_count": 161,
   "metadata": {},
   "outputs": [],
   "source": [
    "assert len(p2(50)) == 124"
   ]
  },
  {
   "attachments": {},
   "cell_type": "markdown",
   "metadata": {},
   "source": [
    "### Upshot\n",
    "\n",
    "It seems like a good and small enough example for a breadth-first usage.\n",
    "\n",
    "Especially part 2 is interesting, since it showcases two important properties:\n",
    "\n",
    "- bfs can be used to traverse a graph \"level-by-level\"\n",
    "- Dijkstra's etc. use bfs's quality of always going in an order of path shortness (i.e., shorter-path-to nodes\n",
    "will be evaluated before longer-path-to nodes).\n",
    "\n",
    "Additionally, we can add a nice visualization."
   ]
  },
  {
   "cell_type": "code",
   "execution_count": 191,
   "metadata": {},
   "outputs": [],
   "source": [
    "def visualize_path(path: list[Point], fav_number: int=FAV_NUMBER):    \n",
    "    def _show(x, y):\n",
    "        p = Point(x, y)\n",
    "        if is_open(p, fav_number=fav_number):\n",
    "            if p in path:\n",
    "                if p == path[0]:\n",
    "                    return \"S\"\n",
    "                elif p == path[-1]:\n",
    "                    return \"G\"\n",
    "                else:\n",
    "                    return \"O\"\n",
    "            else:\n",
    "                return \".\"\n",
    "        else:\n",
    "            return \"#\"\n",
    "\n",
    "    max_x, max_y = max([point.x for point in path]), max([point.y for point in path])\n",
    "    for y in range(max_y + 2):\n",
    "        line = [_show(x, y) for x in range(max_x + 2)]\n",
    "        print(\"\".join(line))"
   ]
  },
  {
   "cell_type": "code",
   "execution_count": 192,
   "metadata": {},
   "outputs": [
    {
     "name": "stdout",
     "output_type": "stream",
     "text": [
      ".#.####.#\n",
      ".S#..#...\n",
      "#OOO.##..\n",
      "###O#.###\n",
      ".##OO#.G#\n",
      "..##OOOO#\n",
      "#...##.##\n"
     ]
    }
   ],
   "source": [
    "visualize_path(\n",
    "    reconstruct_path(\n",
    "        bfs(fav_number=10, goal=Point(7, 4)), \n",
    "        goal=Point(7, 4)), \n",
    "    fav_number=10\n",
    ")"
   ]
  },
  {
   "cell_type": "code",
   "execution_count": 193,
   "metadata": {},
   "outputs": [
    {
     "name": "stdout",
     "output_type": "stream",
     "text": [
      "##.######.##.####...#.##....#..#.#..#.##.\n",
      ".SOOO##.#..#.##.#.#.######..#.##..#.####.\n",
      "###.OOO###......#..#..#..####.###..#..#.#\n",
      "#.####O####..###.#.##.#.#...#..#.#.##.##.\n",
      "......OO######.###..###..##.#..###..##.#.\n",
      "#..##.#OO##..#.......###.#..###......#.##\n",
      "###.#...OOOO.##.##.#.....#....#.##.#.###.\n",
      "..##.######O#.#.##...###.##...##.#..#..##\n",
      ".#.##....##OO##.#.###..#.###.#.##.#..#..#\n",
      ".##.#..#.###O#..#...#.##...#..#.#..#.....\n",
      "..######..#.O#.######.#####.#..###..##.##\n",
      "....#.....##O#.##..#...##.#.##.####..#.##\n",
      ".##.#.##...#OOOOOO.#......#.....#.###...#\n",
      ".#..#.###.#######O########.##.#.###.##...\n",
      ".#..#..##.#...###O##OOO#.##.#..#.....##..\n",
      ".###.#.##.#.....#OOOO#OO#.##.#.####.#.#.#\n",
      ".#.###...###.##.#.###.#O##.###...##..##.#\n",
      ".#.....#..##.#..##..##.O.#.....#..##.#..#\n",
      ".#..#####....#...###.#.O.##.#####.#..#..#\n",
      "###....#.##.###.#..#.##O#.###..#..##.####\n",
      "#.###..####..##..#.#.##OO#OOOOO#...#.#..#\n",
      "###.#....#.#...#..##..##OOO###O##.##..#..\n",
      "....###..##.##..#.###.#.####.#O##.###.#..\n",
      ".####.##..#######..#..#.....##OOOOO#..###\n",
      ".#.....###..#......#..###.#.#.###.O#.....\n",
      ".#.##.#..##.#..########.###.###.##O##..#.\n",
      ".#.##..#...####....#.......#...#.#O#####.\n",
      "##.#.#...#....#..#.#.##..#.###..##O##...#\n",
      "#..##.############.#.#####....#.#.OOOO#.#\n",
      "#.#.#.#..##..#....##..#....##.#.#..##O#..\n",
      "#..##.#....#.##.#.#.#.#.###.#..######O#.#\n",
      "##.#..##.#..#.#.#.##..##..##.#.....#OO###\n",
      "...#.#.##.#...#.##.#...#.#.######..#O#..#\n",
      "#..#..#.#..###...#.##.##.##..##.#..#OOOO.\n",
      "##..#..###.#.#.#.####.##..#.....##..##.O.\n",
      "###.##.###..##..#...#.....#..######..##O#\n",
      "#.#.....#.#.#.#..##.#.##.#####..#.##.##O#\n",
      "##.####.##..#..#.#..##.#.##..#..####.##O.\n",
      ".##....#.#.###...#...##......###..##OOOO#\n",
      "..#..#.#.#.####.###.#.#####.#..G#OOOO##.#\n",
      ".#####.#....###..##......##..##OOO###.#.#\n",
      "..#...###.#..#.#...##..#.###.#.##.#.##..#\n"
     ]
    }
   ],
   "source": [
    "visualize_path(reconstruct_path(bfs()))"
   ]
  }
 ],
 "metadata": {
  "kernelspec": {
   "display_name": "Python 3",
   "language": "python",
   "name": "python3"
  },
  "language_info": {
   "codemirror_mode": {
    "name": "ipython",
    "version": 3
   },
   "file_extension": ".py",
   "mimetype": "text/x-python",
   "name": "python",
   "nbconvert_exporter": "python",
   "pygments_lexer": "ipython3",
   "version": "3.10.0"
  },
  "orig_nbformat": 4
 },
 "nbformat": 4,
 "nbformat_minor": 2
}
